{
 "cells": [
  {
   "cell_type": "code",
   "execution_count": 1,
   "metadata": {},
   "outputs": [],
   "source": [
    "from openai import AzureOpenAI\n",
    "\n",
    "# gets the API Key from environment variable AZURE_OPENAI_API_KEY\n",
    "client = AzureOpenAI(\n",
    "    # https://learn.microsoft.com/en-us/azure/ai-services/openai/reference#rest-api-versioning\n",
    "    api_version=\"2023-07-01-preview\",\n",
    "    # https://learn.microsoft.com/en-us/azure/cognitive-services/openai/how-to/create-resource?pivots=web-portal#create-a-resource\n",
    "    azure_endpoint=\"https://aoa001.openai.azure.com\",\n",
    ")"
   ]
  },
  {
   "cell_type": "code",
   "execution_count": 3,
   "metadata": {},
   "outputs": [
    {
     "name": "stdout",
     "output_type": "stream",
     "text": [
      "As a specialist in surgery, I'm not a podiatrist but I can say that there might be several reasons for foot pain. It might be due to an injury, overuse, or certain conditions such as arthritis, plantar fasciitis, tendinitis, bone spurs, or nerve issues. The best route would be to see a specialist who can fully examine your foot and provide an accurate diagnosis. They may recommend imaging tests such as X-ray, MRI, or ultrasound to see more detailed pictures of your feet. Treatment could range from simple home remedies to medications, physical therapy, or possibly surgery in severe cases. It's always important to follow up with a healthcare provider when you are experiencing persistent pain.\n"
     ]
    }
   ],
   "source": [
    "text_prompt = \" My foot hurts, what can be wrong?\"\n",
    "\n",
    "# make completion\n",
    "completion = client.chat.completions.create(model=\"gpt4dev\", \n",
    "                                            messages = [\n",
    "                                            {\"role\":\"system\", \"content\":\"I'm a doctor, specialist on surgery\"},\n",
    "                                            {\"role\":\"user\",\"content\":text_prompt},]\n",
    ")\n",
    "\n",
    "# print response\n",
    "print(completion.choices[0].message.content)"
   ]
  },
  {
   "cell_type": "code",
   "execution_count": null,
   "metadata": {},
   "outputs": [],
   "source": []
  }
 ],
 "metadata": {
  "kernelspec": {
   "display_name": "Python 3",
   "language": "python",
   "name": "python3"
  },
  "language_info": {
   "codemirror_mode": {
    "name": "ipython",
    "version": 3
   },
   "file_extension": ".py",
   "mimetype": "text/x-python",
   "name": "python",
   "nbconvert_exporter": "python",
   "pygments_lexer": "ipython3",
   "version": "3.10.13"
  },
  "orig_nbformat": 4
 },
 "nbformat": 4,
 "nbformat_minor": 2
}
