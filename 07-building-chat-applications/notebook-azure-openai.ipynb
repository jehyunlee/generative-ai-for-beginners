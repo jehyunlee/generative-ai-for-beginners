{
  "cells": [
    {
      "attachments": {},
      "cell_type": "markdown",
      "metadata": {
        "nteract": {
          "transient": {
            "deleting": false
          }
        }
      },
      "source": [
        "# Chapter 7: Building Chat Applications\n",
        "## Azure OpenAI API Quickstart"
      ]
    },
    {
      "attachments": {},
      "cell_type": "markdown",
      "metadata": {
        "nteract": {
          "transient": {
            "deleting": false
          }
        }
      },
      "source": [
        "## Overview\n",
        "This notebook is adapted from the [Azure OpenAI Samples Repository](https://github.com/Azure/azure-openai-samples?WT.mc_id=academic-105485-koreyst) that includes notebooks that also access the [OpenAI](notebook-openai.ipynb) service.\n",
        "\n",
        "The Python OpenAI API works with Azure OpenAI as well, with a few modifications. Learn more about the differences here: [How to switch between OpenAI and Azure OpenAI endpoints with Python](https://learn.microsoft.com/azure/ai-services/openai/how-to/switching-endpoints?WT.mc_id=academic-109527-jasmineg)\n",
        "\n",
        "For more quickstart examples please refer to the official Azure Open AI Quickstart Documentation https://learn.microsoft.com/azure/cognitive-services/openai/quickstart?pivots=programming-language-studio&WT.mc_id=academic-105485-koreyst"
      ]
    },
    {
      "attachments": {},
      "cell_type": "markdown",
      "metadata": {
        "nteract": {
          "transient": {
            "deleting": false
          }
        }
      },
      "source": [
        "## Table of Contents  \n",
        "\n",
        "[Overview](#overview)  \n",
        "[Getting started with Azure OpenAI Service](#getting-started-with-azure-openai-service)  \n",
        "[Build your first prompt](#build-your-first-prompt)  \n",
        "\n",
        "[Use Cases](#use-cases)    \n",
        "[1. Summarize Text](#summarize-text)  \n",
        "[2. Classify Text](#classify-text)  \n",
        "[3. Generate New Product Names](#generate-new-product-names)  \n",
        "[4. Fine Tune a Classifier](#fine-tune-a-classifier)  \n",
        "[5. Embeddings](#embeddings)\n",
        "\n",
        "[References](#references)"
      ]
    },
    {
      "attachments": {},
      "cell_type": "markdown",
      "metadata": {
        "nteract": {
          "transient": {
            "deleting": false
          }
        }
      },
      "source": [
        "### Getting started with Azure OpenAI Service\n",
        "\n",
        "New customers will need to [apply for access](https://aka.ms/oai/access?WT.mc_id=academic-105485-koreyst) to Azure OpenAI Service.  \n",
        "After approval is complete, customers can log into the Azure portal, create an Azure OpenAI Service resource, and start experimenting with models via the studio  \n",
        "\n",
        "[Great resource for getting started quickly](https://techcommunity.microsoft.com/t5/educator-developer-blog/azure-openai-is-now-generally-available/ba-p/3719177?WT.mc_id=academic-105485-koreyst)\n"
      ]
    },
    {
      "attachments": {},
      "cell_type": "markdown",
      "metadata": {
        "nteract": {
          "transient": {
            "deleting": false
          }
        }
      },
      "source": [
        "### Build your first prompt  \n",
        "This short exercise will provide a basic introduction for submitting prompts to an OpenAI model for a simple task \"summarization\".  \n",
        "\n",
        "![](images/generative-AI-models-reduced.jpg)  \n",
        "\n",
        "\n",
        "**Steps**:  \n",
        "1. Install OpenAI library in your python environment  \n",
        "2. Load standard helper libraries and set your typical OpenAI security credentials for the OpenAI Service that you've created  \n",
        "3. Choose a model for your task  \n",
        "4. Create a simple prompt for the model  \n",
        "5. Submit your request to the model API!"
      ]
    },
    {
      "attachments": {},
      "cell_type": "markdown",
      "metadata": {
        "nteract": {
          "transient": {
            "deleting": false
          }
        }
      },
      "source": [
        "### 1. Install OpenAI"
      ]
    },
    {
      "cell_type": "code",
      "execution_count": 1,
      "metadata": {
        "gather": {
          "logged": 1674254990318
        },
        "jupyter": {
          "outputs_hidden": true,
          "source_hidden": false
        },
        "nteract": {
          "transient": {
            "deleting": false
          }
        }
      },
      "outputs": [
        {
          "name": "stdout",
          "output_type": "stream",
          "text": [
            "Requirement already satisfied: openai in /usr/local/python/3.10.13/lib/python3.10/site-packages (1.3.9)\n",
            "Requirement already satisfied: python-dotenv in /usr/local/python/3.10.13/lib/python3.10/site-packages (1.0.0)\n",
            "Requirement already satisfied: anyio<5,>=3.5.0 in /home/codespace/.local/lib/python3.10/site-packages (from openai) (4.0.0)\n",
            "Requirement already satisfied: distro<2,>=1.7.0 in /usr/local/python/3.10.13/lib/python3.10/site-packages (from openai) (1.8.0)\n",
            "Requirement already satisfied: httpx<1,>=0.23.0 in /usr/local/python/3.10.13/lib/python3.10/site-packages (from openai) (0.25.2)\n",
            "Requirement already satisfied: pydantic<3,>=1.9.0 in /usr/local/python/3.10.13/lib/python3.10/site-packages (from openai) (2.5.2)\n",
            "Requirement already satisfied: sniffio in /home/codespace/.local/lib/python3.10/site-packages (from openai) (1.3.0)\n",
            "Requirement already satisfied: tqdm>4 in /usr/local/python/3.10.13/lib/python3.10/site-packages (from openai) (4.64.0)\n",
            "Requirement already satisfied: typing-extensions<5,>=4.5 in /home/codespace/.local/lib/python3.10/site-packages (from openai) (4.8.0)\n",
            "Requirement already satisfied: idna>=2.8 in /home/codespace/.local/lib/python3.10/site-packages (from anyio<5,>=3.5.0->openai) (3.4)\n",
            "Requirement already satisfied: exceptiongroup>=1.0.2 in /home/codespace/.local/lib/python3.10/site-packages (from anyio<5,>=3.5.0->openai) (1.1.3)\n",
            "Requirement already satisfied: certifi in /home/codespace/.local/lib/python3.10/site-packages (from httpx<1,>=0.23.0->openai) (2023.7.22)\n",
            "Requirement already satisfied: httpcore==1.* in /usr/local/python/3.10.13/lib/python3.10/site-packages (from httpx<1,>=0.23.0->openai) (1.0.2)\n",
            "Requirement already satisfied: h11<0.15,>=0.13 in /usr/local/python/3.10.13/lib/python3.10/site-packages (from httpcore==1.*->httpx<1,>=0.23.0->openai) (0.14.0)\n",
            "Requirement already satisfied: annotated-types>=0.4.0 in /usr/local/python/3.10.13/lib/python3.10/site-packages (from pydantic<3,>=1.9.0->openai) (0.6.0)\n",
            "Requirement already satisfied: pydantic-core==2.14.5 in /usr/local/python/3.10.13/lib/python3.10/site-packages (from pydantic<3,>=1.9.0->openai) (2.14.5)\n",
            "Note: you may need to restart the kernel to use updated packages.\n"
          ]
        }
      ],
      "source": [
        "pip install openai python-dotenv"
      ]
    },
    {
      "attachments": {},
      "cell_type": "markdown",
      "metadata": {
        "nteract": {
          "transient": {
            "deleting": false
          }
        }
      },
      "source": [
        "### 2. Import helper libraries and instantiate credentials"
      ]
    },
    {
      "cell_type": "code",
      "execution_count": 4,
      "metadata": {
        "gather": {
          "logged": 1674829434433
        },
        "jupyter": {
          "outputs_hidden": false,
          "source_hidden": false
        },
        "nteract": {
          "transient": {
            "deleting": false
          }
        }
      },
      "outputs": [],
      "source": [
        "from openai import AzureOpenAI\n",
        "\n",
        "# gets the API Key from environment variable AZURE_OPENAI_API_KEY\n",
        "client = AzureOpenAI(\n",
        "    # https://learn.microsoft.com/en-us/azure/ai-services/openai/reference#rest-api-versioning\n",
        "    api_version=\"2023-07-01-preview\",\n",
        "    # https://learn.microsoft.com/en-us/azure/cognitive-services/openai/how-to/create-resource?pivots=web-portal#create-a-resource\n",
        "    azure_endpoint=\"https://aoa001.openai.azure.com\",\n",
        ")"
      ]
    },
    {
      "attachments": {},
      "cell_type": "markdown",
      "metadata": {
        "nteract": {
          "transient": {
            "deleting": false
          }
        }
      },
      "source": [
        "### 3. Finding the right model  \n",
        "The GPT-3.5-turbo or GPT-4 models can understand and generate natural language. The service offers four model capabilities, each with different levels of power and speed suitable for different tasks. \n",
        "\n",
        "[Azure OpenAI models](https://learn.microsoft.com/azure/cognitive-services/openai/concepts/models?WT.mc_id=academic-105485-koreyst)  \n",
        "![](images/a-b-c-d-models-reduced.jpg)  \n"
      ]
    },
    {
      "cell_type": "code",
      "execution_count": 5,
      "metadata": {
        "gather": {
          "logged": 1674742720788
        },
        "jupyter": {
          "outputs_hidden": true,
          "source_hidden": false
        },
        "nteract": {
          "transient": {
            "deleting": false
          }
        }
      },
      "outputs": [],
      "source": [
        "# Select the General Purpose curie model for text\n",
        "model=\"gpt4dev\""
      ]
    },
    {
      "attachments": {},
      "cell_type": "markdown",
      "metadata": {
        "nteract": {
          "transient": {
            "deleting": false
          }
        }
      },
      "source": [
        "## 4. Prompt Design  \n",
        "\n",
        "\"The magic of large language models is that by being trained to minimize this prediction error over vast quantities of text, the models end up learning concepts useful for these predictions. For example, they learn concepts like\"(1):\n",
        "\n",
        "* how to spell\n",
        "* how grammar works\n",
        "* how to paraphrase\n",
        "* how to answer questions\n",
        "* how to hold a conversation\n",
        "* how to write in many languages\n",
        "* how to code\n",
        "* etc.\n",
        "\n",
        "#### How to control a large language model  \n",
        "\"Of all the inputs to a large language model, by far the most influential is the text prompt(1).\n",
        "\n",
        "Large language models can be prompted to produce output in a few ways:\n",
        "\n",
        "Instruction: Tell the model what you want\n",
        "Completion: Induce the model to complete the beginning of what you want\n",
        "Demonstration: Show the model what you want, with either:\n",
        "A few examples in the prompt\n",
        "Many hundreds or thousands of examples in a fine-tuning training dataset\"\n",
        "\n",
        "\n",
        "\n",
        "#### There are three basic guidelines to creating prompts:\n",
        "\n",
        "**Show and tell**. Make it clear what you want either through instructions, examples, or a combination of the two. If you want the model to rank a list of items in alphabetical order or to classify a paragraph by sentiment, show it that's what you want.\n",
        "\n",
        "**Provide quality data**. If you're trying to build a classifier or get the model to follow a pattern, make sure that there are enough examples. Be sure to proofread your examples — the model is usually smart enough to see through basic spelling mistakes and give you a response, but it also might assume this is intentional and it can affect the response.\n",
        "\n",
        "**Check your settings.** The temperature and top_p settings control how deterministic the model is in generating a response. If you're asking it for a response where there's only one right answer, then you'd want to set these lower. If you're looking for more diverse responses, then you might want to set them higher. The number one mistake people make with these settings is assuming that they're \"cleverness\" or \"creativity\" controls.\n",
        "\n",
        "\n",
        "Source: https://github.com/Azure/OpenAI/blob/main/How%20to/Completions.md"
      ]
    },
    {
      "attachments": {},
      "cell_type": "markdown",
      "metadata": {
        "nteract": {
          "transient": {
            "deleting": false
          }
        }
      },
      "source": [
        "![](images/prompt_design.jpg)\n",
        "image is creating your first text prompt!"
      ]
    },
    {
      "attachments": {},
      "cell_type": "markdown",
      "metadata": {
        "nteract": {
          "transient": {
            "deleting": false
          }
        }
      },
      "source": [
        "### 5. Submit!"
      ]
    },
    {
      "cell_type": "code",
      "execution_count": 6,
      "metadata": {
        "gather": {
          "logged": 1674494935186
        },
        "jupyter": {
          "outputs_hidden": false,
          "source_hidden": false
        },
        "nteract": {
          "transient": {
            "deleting": false
          }
        }
      },
      "outputs": [
        {
          "name": "stdout",
          "output_type": "stream",
          "text": [
            "The use of the Oxford comma (also known as the serial comma) greatly depends on your style guide or personal preference. Some writing styles, such as APA (American Psychological Association), require the Oxford comma for clarity. However, other styles, like The Associated Press (AP) Stylebook, advise against its use unless it is necessary for understanding the sentence. In general, it's a good idea to use it for clarity, especially in complex lists, but it's not always mandatory.\n"
          ]
        }
      ],
      "source": [
        "# Create your first prompt\n",
        "text_prompt = \"Should oxford commas always be used?\"\n",
        "\n",
        "# make completion\n",
        "completion = client.chat.completions.create(model=model, \n",
        "  messages = [{\"role\":\"system\", \"content\":\"You are a helpful assistant.\"},\n",
        "               {\"role\":\"user\",\"content\":text_prompt},])\n",
        "\n",
        "# print response\n",
        "print(completion.choices[0].message.content)"
      ]
    },
    {
      "attachments": {},
      "cell_type": "markdown",
      "metadata": {
        "nteract": {
          "transient": {
            "deleting": false
          }
        }
      },
      "source": [
        "### Repeat the same call, how do the results compare?"
      ]
    },
    {
      "cell_type": "code",
      "execution_count": 7,
      "metadata": {
        "gather": {
          "logged": 1674494940872
        },
        "jupyter": {
          "outputs_hidden": false,
          "source_hidden": false
        },
        "nteract": {
          "transient": {
            "deleting": false
          }
        }
      },
      "outputs": [
        {
          "name": "stdout",
          "output_type": "stream",
          "text": [
            "The use of the Oxford comma, also known as the serial comma, is a matter of style and is not universally agreed upon. Certain style guides, such as the University of Oxford itself or The Chicago Manual of Style, recommend its use. However, others like The Associated Press Stylebook, do not. Still, it's always advisable to use the Oxford comma for clarity, particularly in complex sentences. Ultimately, whether you should always use it depends on the writing style you are following.\n"
          ]
        }
      ],
      "source": [
        "# Create your first prompt\n",
        "text_prompt = \"Should oxford commas always be used?\"\n",
        "\n",
        "# make completion\n",
        "completion = client.chat.completions.create(model=model, \n",
        "  messages = [{\"role\":\"system\", \"content\":\"You are a helpful assistant.\"},\n",
        "               {\"role\":\"user\",\"content\":text_prompt},])\n",
        "\n",
        "# print response\n",
        "print(completion.choices[0].message.content)"
      ]
    },
    {
      "attachments": {},
      "cell_type": "markdown",
      "metadata": {
        "nteract": {
          "transient": {
            "deleting": false
          }
        }
      },
      "source": [
        "## Summarize Text  \n",
        "#### Challenge  \n",
        "Summarize text by adding a 'tl;dr:' to the end of a text passage. Notice how the model understands how to perform a number of tasks with no additional instructions. You can experiment with more descriptive prompts than tl;dr to modify the model’s behavior and customize the summarization you receive(3).  \n",
        "\n",
        "Recent work has demonstrated substantial gains on many NLP tasks and benchmarks by pre-training on a large corpus of text followed by fine-tuning on a specific task. While typically task-agnostic in architecture, this method still requires task-specific fine-tuning datasets of thousands or tens of thousands of examples. By contrast, humans can generally perform a new language task from only a few examples or from simple instructions - something that current NLP systems still largely struggle to do. Here we show that scaling up language models greatly improves task-agnostic, few-shot performance, sometimes even reaching competitiveness with prior state-of-the-art fine-tuning approaches. \n",
        "\n",
        "\n",
        "\n",
        "Tl;dr"
      ]
    },
    {
      "attachments": {},
      "cell_type": "markdown",
      "metadata": {
        "nteract": {
          "transient": {
            "deleting": false
          }
        }
      },
      "source": [
        "# Exercises for several use cases  \n",
        "1. Summarize Text  \n",
        "2. Classify Text  \n",
        "3. Generate New Product Names\n",
        "4. Embeddings\n",
        "5. Fine tune a classifier"
      ]
    },
    {
      "cell_type": "code",
      "execution_count": 2,
      "metadata": {
        "gather": {
          "logged": 1674495198534
        },
        "jupyter": {
          "outputs_hidden": false,
          "source_hidden": false
        },
        "nteract": {
          "transient": {
            "deleting": false
          }
        }
      },
      "outputs": [],
      "source": [
        "prompt = \"Recent work has demonstrated substantial gains on many NLP tasks and benchmarks by pre-training on a large corpus of text followed by fine-tuning on a specific task. While typically task-agnostic in architecture, this method still requires task-specific fine-tuning datasets of thousands or tens of thousands of examples. By contrast, humans can generally perform a new language task from only a few examples or from simple instructions - something that current NLP systems still largely struggle to do. Here we show that scaling up language models greatly improves task-agnostic, few-shot performance, sometimes even reaching competitiveness with prior state-of-the-art fine-tuning approaches.\\n\\nTl;dr\"\n",
        "\n"
      ]
    },
    {
      "cell_type": "code",
      "execution_count": 9,
      "metadata": {
        "gather": {
          "logged": 1674495201868
        },
        "jupyter": {
          "outputs_hidden": false,
          "source_hidden": false
        },
        "nteract": {
          "transient": {
            "deleting": false
          }
        }
      },
      "outputs": [
        {
          "name": "stdout",
          "output_type": "stream",
          "text": [
            "Recent studies show significant improvements in many natural language processing (NLP) tasks by first pre-training on a large text corpus then fine-tuning on a specific task. However, this method still needs thousands of examples for task-specific fine tuning. This is different from human ability to pick up new language tasks with few examples or simple instructions. This paper indicates that increasing the size of language models vastly improves their few-shot performance, even matching or exceeding the previous best fine-tuning methods.\n"
          ]
        }
      ],
      "source": [
        "# Create your first prompt\n",
        "text_prompt = \"Should oxford commas always be used?\"\n",
        "\n",
        "# make completion\n",
        "completion = client.chat.completions.create(model=model, \n",
        "  messages = [{\"role\":\"system\", \"content\":\"You are a helpful assistant.\"},\n",
        "               {\"role\":\"user\",\"content\":prompt},])\n",
        "\n",
        "# print response\n",
        "print(completion.choices[0].message.content)"
      ]
    },
    {
      "attachments": {},
      "cell_type": "markdown",
      "metadata": {
        "nteract": {
          "transient": {
            "deleting": false
          }
        }
      },
      "source": [
        "## Classify Text  \n",
        "#### Challenge  \n",
        "Classify items into categories provided at inference time. In the following example, we provide both the categories and the text to classify in the prompt(*playground_reference). \n",
        "\n",
        "Customer Inquiry: Hello, one of the keys on my laptop keyboard broke recently and I'll need a replacement:\n",
        "\n",
        "Classified category:\n"
      ]
    },
    {
      "cell_type": "code",
      "execution_count": null,
      "metadata": {
        "gather": {
          "logged": 1674499424645
        },
        "jupyter": {
          "outputs_hidden": false,
          "source_hidden": false
        },
        "nteract": {
          "transient": {
            "deleting": false
          }
        }
      },
      "outputs": [],
      "source": [
        "prompt = \"Classify the following inquiry into one of the following: categories: [Pricing, Hardware Support, Software Support]\\n\\ninquiry: Hello, one of the keys on my laptop keyboard broke recently and I'll need a replacement:\\n\\nClassified category:\"\n",
        "print(prompt)"
      ]
    },
    {
      "cell_type": "code",
      "execution_count": 8,
      "metadata": {
        "gather": {
          "logged": 1674499378518
        },
        "jupyter": {
          "outputs_hidden": false,
          "source_hidden": false
        },
        "nteract": {
          "transient": {
            "deleting": false
          }
        }
      },
      "outputs": [
        {
          "name": "stdout",
          "output_type": "stream",
          "text": [
            "Recent studies have shown significant improvements in various Natural Language Processing (NLP) tasks by pre-training models on a large text database and then fine-tuning them for specific tasks. However, these techniques still require thousands of task-specific examples for fine-tuning, a far cry from human capabilities of learning from a few examples or simple instructions. The authors demonstrate that larger language models substantially increase task-agnostic, few-shot performance, sometimes matching or even surpassing previous methods that heavily relied on fine-tuning.\n"
          ]
        }
      ],
      "source": [
        "#Setting a few additional, typical parameters during API Call\n",
        "\n",
        "# Create your first prompt\n",
        "text_prompt = \"Should oxford commas always be used?\"\n",
        "\n",
        "# make completion\n",
        "completion = client.chat.completions.create(model=model, \n",
        "  messages = [{\"role\":\"system\", \"content\":\"You are a helpful assistant.\"},\n",
        "               {\"role\":\"user\",\"content\":prompt},])\n",
        "\n",
        "# print response\n",
        "print(completion.choices[0].message.content)"
      ]
    },
    {
      "attachments": {},
      "cell_type": "markdown",
      "metadata": {
        "nteract": {
          "transient": {
            "deleting": false
          }
        }
      },
      "source": [
        "## Generate New Product Names\n",
        "#### Challenge\n",
        "Create product names from examples words. Here we include in the prompt information about the product we are going to generate names for. We also provide a similar example to show the pattern we wish to receive. We have also set the temperature value high to increase randomness and more innovative responses.\n",
        "\n",
        "Product description: A home milkshake maker\n",
        "Seed words: fast, healthy, compact.\n",
        "Product names: HomeShaker, Fit Shaker, QuickShake, Shake Maker\n",
        "\n",
        "Product description: A pair of shoes that can fit any foot size.\n",
        "Seed words: adaptable, fit, omni-fit."
      ]
    },
    {
      "cell_type": "code",
      "execution_count": 10,
      "metadata": {
        "gather": {
          "logged": 1674257087279
        },
        "jupyter": {
          "outputs_hidden": false,
          "source_hidden": false
        },
        "nteract": {
          "transient": {
            "deleting": false
          }
        }
      },
      "outputs": [
        {
          "name": "stdout",
          "output_type": "stream",
          "text": [
            "Product description: A home milkshake maker\n",
            "Seed words: fast, healthy, compact.\n",
            "Product names: HomeShaker, Fit Shaker, QuickShake, Shake Maker\n",
            "\n",
            "Product description: A pair of shoes that can fit any foot size.\n",
            "Seed words: adaptable, fit, omni-fit.\n"
          ]
        }
      ],
      "source": [
        "prompt = \"Product description: A home milkshake maker\\nSeed words: fast, healthy, compact.\\nProduct names: HomeShaker, Fit Shaker, QuickShake, Shake Maker\\n\\nProduct description: A pair of shoes that can fit any foot size.\\nSeed words: adaptable, fit, omni-fit.\"\n",
        "\n",
        "print(prompt)"
      ]
    },
    {
      "cell_type": "code",
      "execution_count": 12,
      "metadata": {
        "jupyter": {
          "outputs_hidden": false,
          "source_hidden": false
        },
        "nteract": {
          "transient": {
            "deleting": false
          }
        }
      },
      "outputs": [
        {
          "name": "stdout",
          "output_type": "stream",
          "text": [
            "Product names: Universal Striders, OmniSneaks, FlexFit Footwear, AdaptShoes.\n"
          ]
        }
      ],
      "source": [
        "# make completion\n",
        "completion = client.chat.completions.create(model=model, \n",
        "  messages = [{\"role\":\"system\", \"content\":\"You are a helpful assistant.\"},\n",
        "               {\"role\":\"user\",\"content\":prompt},])\n",
        "\n",
        "# print response\n",
        "print(completion.choices[0].message.content)"
      ]
    },
    {
      "attachments": {},
      "cell_type": "markdown",
      "metadata": {
        "nteract": {
          "transient": {
            "deleting": false
          }
        }
      },
      "source": [
        "## Embeddings\n",
        "This section will show how to retrieve embeddings, and find similarities between words, sentences, and documents"
      ]
    },
    {
      "attachments": {},
      "cell_type": "markdown",
      "metadata": {
        "nteract": {
          "transient": {
            "deleting": false
          }
        }
      },
      "source": [
        "### Model Taxonomy - Choosing a similarity model\n",
        "Let's choose a similarity model, using the  most powerful model (davinci)\n",
        "\n",
        "**Model taxonomy**: {family} - {capability} - {input-type} - {identifier}  \n",
        "\n",
        "{family}     --> text-similarity  (general text GPT-3 model)  \n",
        "{capability} --> davincie         (curie is second most powerful in ada-babbage-curie-davinci family)  \n",
        "{input-type} --> n/a              (only specified for search models)  \n",
        "{identifier} --> 001              (version 001)  \n",
        "\n",
        "model = 'text-similarity-davinci-001'"
      ]
    },
    {
      "cell_type": "code",
      "execution_count": 15,
      "metadata": {},
      "outputs": [
        {
          "name": "stdout",
          "output_type": "stream",
          "text": [
            "Requirement already satisfied: matplotlib in /usr/local/python/3.10.13/lib/python3.10/site-packages (3.7.0)\n",
            "Requirement already satisfied: plotly in /home/codespace/.local/lib/python3.10/site-packages (5.18.0)\n",
            "Requirement already satisfied: scikit-learn in /home/codespace/.local/lib/python3.10/site-packages (1.3.2)\n",
            "Requirement already satisfied: pandas in /usr/local/python/3.10.13/lib/python3.10/site-packages (1.5.3)\n",
            "Requirement already satisfied: contourpy>=1.0.1 in /home/codespace/.local/lib/python3.10/site-packages (from matplotlib) (1.2.0)\n",
            "Requirement already satisfied: cycler>=0.10 in /home/codespace/.local/lib/python3.10/site-packages (from matplotlib) (0.12.1)\n",
            "Requirement already satisfied: fonttools>=4.22.0 in /home/codespace/.local/lib/python3.10/site-packages (from matplotlib) (4.44.3)\n",
            "Requirement already satisfied: kiwisolver>=1.0.1 in /home/codespace/.local/lib/python3.10/site-packages (from matplotlib) (1.4.5)\n",
            "Requirement already satisfied: numpy>=1.20 in /usr/local/python/3.10.13/lib/python3.10/site-packages (from matplotlib) (1.24.2)\n",
            "Requirement already satisfied: packaging>=20.0 in /home/codespace/.local/lib/python3.10/site-packages (from matplotlib) (23.2)\n",
            "Requirement already satisfied: pillow>=6.2.0 in /home/codespace/.local/lib/python3.10/site-packages (from matplotlib) (10.1.0)\n",
            "Requirement already satisfied: pyparsing>=2.3.1 in /home/codespace/.local/lib/python3.10/site-packages (from matplotlib) (3.1.1)\n",
            "Requirement already satisfied: python-dateutil>=2.7 in /home/codespace/.local/lib/python3.10/site-packages (from matplotlib) (2.8.2)\n",
            "Requirement already satisfied: tenacity>=6.2.0 in /home/codespace/.local/lib/python3.10/site-packages (from plotly) (8.2.3)\n",
            "Requirement already satisfied: scipy>=1.5.0 in /home/codespace/.local/lib/python3.10/site-packages (from scikit-learn) (1.11.3)\n",
            "Requirement already satisfied: joblib>=1.1.1 in /home/codespace/.local/lib/python3.10/site-packages (from scikit-learn) (1.3.2)\n",
            "Requirement already satisfied: threadpoolctl>=2.0.0 in /home/codespace/.local/lib/python3.10/site-packages (from scikit-learn) (3.2.0)\n",
            "Requirement already satisfied: pytz>=2020.1 in /home/codespace/.local/lib/python3.10/site-packages (from pandas) (2023.3.post1)\n",
            "Requirement already satisfied: six>=1.5 in /home/codespace/.local/lib/python3.10/site-packages (from python-dateutil>=2.7->matplotlib) (1.16.0)\n"
          ]
        }
      ],
      "source": [
        "# Dependencies for embeddings_utils\n",
        "!pip install matplotlib plotly scikit-learn pandas"
      ]
    },
    {
      "cell_type": "code",
      "execution_count": 16,
      "metadata": {
        "gather": {
          "logged": 1674829364153
        },
        "jupyter": {
          "outputs_hidden": false,
          "source_hidden": false
        },
        "nteract": {
          "transient": {
            "deleting": false
          }
        }
      },
      "outputs": [],
      "source": [
        "from openai import OpenAI\n",
        "client = OpenAI()\n",
        "\n",
        "text = 'the quick brown fox jumped over the lazy dog'\n",
        "model = 'text-embedding-ada-002'\n",
        "\n",
        "result_embedding = client.embeddings.create(\n",
        "  model=model,\n",
        "  input=text,\n",
        "  encoding_format=\"float\"\n",
        ")"
      ]
    },
    {
      "cell_type": "code",
      "execution_count": 27,
      "metadata": {},
      "outputs": [
        {
          "data": {
            "text/plain": [
              "[-0.0045049563,\n",
              " 0.009783459,\n",
              " -0.014963683,\n",
              " -0.006429311,\n",
              " -0.011343232,\n",
              " 0.015534331,\n",
              " -0.023713633,\n",
              " -0.016422007,\n",
              " -0.015800634,\n",
              " -0.029623019,\n",
              " 0.021304226,\n",
              " 0.02111401,\n",
              " 0.01856511,\n",
              " 0.0041467156,\n",
              " -0.00068913784,\n",
              " -0.0075008627,\n",
              " 0.025184639,\n",
              " -0.0041847588,\n",
              " 0.011191059,\n",
              " -0.008604118,\n",
              " -0.009510815,\n",
              " 0.021557847,\n",
              " -0.0060266866,\n",
              " -0.008268069,\n",
              " 0.006045708,\n",
              " 0.013074201,\n",
              " 0.0074374573,\n",
              " -0.0035380232,\n",
              " -0.008940166,\n",
              " 0.0011769633,\n",
              " 0.006708295,\n",
              " 0.0038296883,\n",
              " -0.039286006,\n",
              " -0.002612304,\n",
              " -0.012763514,\n",
              " -0.021735383,\n",
              " -0.0037282396,\n",
              " -0.0105316425,\n",
              " 0.025958184,\n",
              " -0.045677274,\n",
              " 0.009345961,\n",
              " 0.015711866,\n",
              " -0.022661103,\n",
              " -0.011647578,\n",
              " -0.0028627554,\n",
              " 0.012123119,\n",
              " 0.010550665,\n",
              " -0.012528914,\n",
              " -0.022863999,\n",
              " 0.010411172,\n",
              " -0.0003190086,\n",
              " 0.0065371003,\n",
              " -0.009884907,\n",
              " -0.011571492,\n",
              " -0.004726875,\n",
              " -0.007247241,\n",
              " -0.0013869939,\n",
              " -0.006242265,\n",
              " 0.009358642,\n",
              " -0.005744532,\n",
              " 0.010829648,\n",
              " 0.013543401,\n",
              " -0.0051358403,\n",
              " -0.0056177215,\n",
              " 0.000708952,\n",
              " -0.009390345,\n",
              " 0.011057908,\n",
              " -0.010569686,\n",
              " -0.013010795,\n",
              " -0.0048822183,\n",
              " 0.029267948,\n",
              " -0.0019211847,\n",
              " 0.00028730588,\n",
              " 0.0060013244,\n",
              " 0.03149982,\n",
              " -0.008838718,\n",
              " -0.027441872,\n",
              " 0.00898455,\n",
              " 0.014481802,\n",
              " 0.011558811,\n",
              " 0.029775193,\n",
              " -0.04187295,\n",
              " -0.006090092,\n",
              " 0.014456439,\n",
              " 0.01739845,\n",
              " 0.0025948675,\n",
              " -0.025844054,\n",
              " 0.037815,\n",
              " -0.016979976,\n",
              " 0.011114973,\n",
              " 0.005608211,\n",
              " 0.030713592,\n",
              " 0.008128577,\n",
              " -0.005532124,\n",
              " -0.017233597,\n",
              " 0.006435652,\n",
              " -0.0008654842,\n",
              " 0.01913576,\n",
              " -0.01003074,\n",
              " -0.025869418,\n",
              " 0.007050684,\n",
              " -0.011717324,\n",
              " -0.02718825,\n",
              " -0.0031417392,\n",
              " 0.00687949,\n",
              " -0.026757093,\n",
              " -0.005437016,\n",
              " 0.022280669,\n",
              " 0.01808323,\n",
              " -0.014177456,\n",
              " 0.016345922,\n",
              " 0.023383925,\n",
              " 0.018235402,\n",
              " -0.039691802,\n",
              " -0.0041372045,\n",
              " -0.0113305515,\n",
              " 0.009599583,\n",
              " -0.00944741,\n",
              " -0.009276215,\n",
              " -0.008686544,\n",
              " 0.009320599,\n",
              " 0.017690117,\n",
              " 0.022382118,\n",
              " -0.0024141618,\n",
              " -0.0139872385,\n",
              " -0.009523496,\n",
              " -0.0039501586,\n",
              " 0.007139452,\n",
              " -0.011292508,\n",
              " 0.00361728,\n",
              " 0.032463584,\n",
              " 0.023637546,\n",
              " 0.0329201,\n",
              " -0.012389421,\n",
              " -0.0370795,\n",
              " 0.023726314,\n",
              " 0.0051612025,\n",
              " -0.011159357,\n",
              " -0.03023171,\n",
              " -0.022382118,\n",
              " -0.0015589811,\n",
              " 0.016409326,\n",
              " -0.0065434407,\n",
              " 0.008699225,\n",
              " 0.022420162,\n",
              " 0.024068704,\n",
              " 0.021507123,\n",
              " 0.008648502,\n",
              " -0.0020844536,\n",
              " -0.0071140896,\n",
              " 0.01819736,\n",
              " -0.0023253944,\n",
              " 0.02987664,\n",
              " 0.00036735524,\n",
              " 0.009593242,\n",
              " 0.015661143,\n",
              " 0.0038930937,\n",
              " 0.014431077,\n",
              " -0.027949115,\n",
              " -0.021633934,\n",
              " 0.02370095,\n",
              " 0.021950962,\n",
              " -0.00042402383,\n",
              " -0.008160279,\n",
              " 0.0020939645,\n",
              " 0.03114475,\n",
              " 0.03322445,\n",
              " 0.002716923,\n",
              " 0.008046149,\n",
              " -0.010626751,\n",
              " 0.005091456,\n",
              " 0.0329201,\n",
              " -0.011755368,\n",
              " 0.037536018,\n",
              " 0.0020020267,\n",
              " 0.006898511,\n",
              " 0.021722702,\n",
              " -0.007849593,\n",
              " -0.032007065,\n",
              " 0.001603365,\n",
              " 0.0040452667,\n",
              " 0.014190136,\n",
              " 0.038804125,\n",
              " 0.024005298,\n",
              " 0.005202416,\n",
              " 0.022610378,\n",
              " 0.0056399135,\n",
              " -0.027594045,\n",
              " -0.0073486897,\n",
              " -0.0013434027,\n",
              " 0.008762631,\n",
              " 0.0020812834,\n",
              " -0.018831413,\n",
              " -0.013682893,\n",
              " -0.6866048,\n",
              " -0.029800555,\n",
              " 0.0040674587,\n",
              " -0.010829648,\n",
              " 0.021646615,\n",
              " 0.033579517,\n",
              " -0.012345038,\n",
              " -0.01038581,\n",
              " -0.0002865133,\n",
              " 0.035380233,\n",
              " -0.030510696,\n",
              " 0.0022017537,\n",
              " 0.0047173644,\n",
              " -0.0027105822,\n",
              " -0.009821502,\n",
              " -0.0033668287,\n",
              " 0.0272897,\n",
              " -0.02299081,\n",
              " -0.007970063,\n",
              " 0.020822344,\n",
              " 0.0047744294,\n",
              " 0.00699996,\n",
              " -0.010956459,\n",
              " 0.0017420644,\n",
              " -0.0050946265,\n",
              " 0.011343232,\n",
              " -0.0020210482,\n",
              " 0.0053133755,\n",
              " -0.0011991552,\n",
              " 0.0170307,\n",
              " -0.0020273887,\n",
              " 0.0189075,\n",
              " -0.006499057,\n",
              " 0.005449697,\n",
              " 0.042709902,\n",
              " 0.0044732536,\n",
              " -0.0059664515,\n",
              " 0.020606766,\n",
              " 0.03979325,\n",
              " 0.053463463,\n",
              " -0.035532404,\n",
              " -0.01364485,\n",
              " 0.014595931,\n",
              " 0.0089211445,\n",
              " -0.011501746,\n",
              " 0.0011833039,\n",
              " 0.02542558,\n",
              " 0.017195554,\n",
              " -0.0056525944,\n",
              " -0.015648462,\n",
              " 0.0135814445,\n",
              " 0.017829608,\n",
              " 0.016307877,\n",
              " 0.0051390105,\n",
              " -0.018133955,\n",
              " 0.02706144,\n",
              " 0.010981821,\n",
              " -0.00035566487,\n",
              " -0.0017246278,\n",
              " -0.0023301498,\n",
              " -0.010557005,\n",
              " 0.0014194892,\n",
              " -0.010411172,\n",
              " 0.008705566,\n",
              " -0.022610378,\n",
              " 0.003547534,\n",
              " -0.0070380033,\n",
              " 0.01026534,\n",
              " 0.022052411,\n",
              " -0.0142915845,\n",
              " 0.022851318,\n",
              " 0.019807858,\n",
              " -0.01061407,\n",
              " 0.010087805,\n",
              " 0.014646655,\n",
              " 0.0107282,\n",
              " 0.009263534,\n",
              " -0.0065624625,\n",
              " -0.011590513,\n",
              " 0.006476865,\n",
              " -0.012161163,\n",
              " -0.0026297404,\n",
              " -0.039311368,\n",
              " -0.0015161824,\n",
              " 0.035633855,\n",
              " 0.017195554,\n",
              " -0.03512661,\n",
              " -0.0064007784,\n",
              " -0.0050597535,\n",
              " -0.024233557,\n",
              " 0.01691657,\n",
              " 0.02461399,\n",
              " -0.031905614,\n",
              " -0.0011516012,\n",
              " -0.012452828,\n",
              " 0.008445604,\n",
              " -0.0061186245,\n",
              " 0.03847442,\n",
              " 0.041162807,\n",
              " -0.032260686,\n",
              " 0.012237249,\n",
              " -0.0018831415,\n",
              " -0.0035316828,\n",
              " -0.004210121,\n",
              " 0.014304266,\n",
              " 0.030434608,\n",
              " 0.016789759,\n",
              " 0.0017785224,\n",
              " 0.017423814,\n",
              " -0.011178378,\n",
              " -0.008578755,\n",
              " -0.017525261,\n",
              " 0.017487219,\n",
              " 0.005107308,\n",
              " -0.0064673545,\n",
              " -0.025007103,\n",
              " 0.015635781,\n",
              " -0.004444721,\n",
              " 0.015851358,\n",
              " -0.019427424,\n",
              " 0.009434729,\n",
              " -0.011825114,\n",
              " 0.008883101,\n",
              " -0.0008424997,\n",
              " 0.007627674,\n",
              " 0.0018561941,\n",
              " -0.026731731,\n",
              " -0.029344035,\n",
              " -0.015914764,\n",
              " -0.0048314943,\n",
              " -0.00746916,\n",
              " 0.020264376,\n",
              " 0.035380233,\n",
              " -0.0024315985,\n",
              " -0.0031290583,\n",
              " -0.004384486,\n",
              " 0.014418396,\n",
              " 0.006163008,\n",
              " 0.01831149,\n",
              " -0.016016213,\n",
              " -0.03162663,\n",
              " 0.009028934,\n",
              " -0.014304266,\n",
              " -0.013606806,\n",
              " 0.007240901,\n",
              " -0.019896625,\n",
              " -0.025869418,\n",
              " 0.004384486,\n",
              " 0.006625868,\n",
              " 0.030485332,\n",
              " -0.012199205,\n",
              " -0.023130303,\n",
              " -0.01236406,\n",
              " -0.015344115,\n",
              " 0.022838637,\n",
              " -0.005411654,\n",
              " -0.032691844,\n",
              " -0.004270356,\n",
              " -0.004593724,\n",
              " -0.028608533,\n",
              " 0.027670132,\n",
              " 0.0139872385,\n",
              " -0.00653076,\n",
              " -0.0041593965,\n",
              " 0.010411172,\n",
              " -0.035278782,\n",
              " 0.0032019746,\n",
              " 0.022902044,\n",
              " -0.024677396,\n",
              " -0.026985353,\n",
              " -0.0049075806,\n",
              " -0.022559654,\n",
              " -0.0062486054,\n",
              " -0.0010208274,\n",
              " -0.017537944,\n",
              " 0.011622217,\n",
              " -0.027213613,\n",
              " -0.024233557,\n",
              " -0.0021969983,\n",
              " -0.011013524,\n",
              " -0.0042893775,\n",
              " 0.018806051,\n",
              " 0.006432481,\n",
              " -0.022762552,\n",
              " 0.015711866,\n",
              " -0.0048822183,\n",
              " 0.0247408,\n",
              " 0.012408444,\n",
              " -0.023954574,\n",
              " -0.010068783,\n",
              " 0.021050604,\n",
              " 0.027264336,\n",
              " 0.012769855,\n",
              " -0.013391227,\n",
              " -0.0055352943,\n",
              " -0.020200972,\n",
              " 0.005379951,\n",
              " 0.030206349,\n",
              " 0.014963683,\n",
              " 0.009441069,\n",
              " 0.016231792,\n",
              " -0.0075769494,\n",
              " 0.007278944,\n",
              " -0.02706144,\n",
              " 0.021989005,\n",
              " -0.032032426,\n",
              " -0.0016374453,\n",
              " -0.004187929,\n",
              " 0.0060393675,\n",
              " -0.00017159096,\n",
              " -0.01993467,\n",
              " 0.00040856877,\n",
              " 0.019389382,\n",
              " -0.03862659,\n",
              " 0.017347727,\n",
              " 0.023903849,\n",
              " -0.012262611,\n",
              " 0.022572335,\n",
              " 0.008680204,\n",
              " -0.012877644,\n",
              " 0.0025758457,\n",
              " -0.020454593,\n",
              " 0.0152933905,\n",
              " -0.0055606565,\n",
              " 0.022267988,\n",
              " 0.024702758,\n",
              " 0.008959188,\n",
              " 0.015585056,\n",
              " 0.0016342751,\n",
              " -0.0041213534,\n",
              " -0.023485374,\n",
              " 0.0032384326,\n",
              " 0.0170307,\n",
              " 0.017068744,\n",
              " 0.008578755,\n",
              " 0.00020963422,\n",
              " 0.0073803924,\n",
              " -0.010855011,\n",
              " 0.014748104,\n",
              " -0.0013529134,\n",
              " 0.018032506,\n",
              " -0.0069111926,\n",
              " 0.007748144,\n",
              " -0.014063326,\n",
              " 0.011615875,\n",
              " 0.011609535,\n",
              " 0.029344035,\n",
              " -0.0054275054,\n",
              " -0.017195554,\n",
              " 0.0065053976,\n",
              " -0.0017785224,\n",
              " -0.003512661,\n",
              " -0.024461817,\n",
              " 0.027720856,\n",
              " 0.007412095,\n",
              " -0.015128537,\n",
              " 0.02088575,\n",
              " 0.0050819456,\n",
              " 0.029217225,\n",
              " 0.025146596,\n",
              " 0.004070629,\n",
              " 0.0029959069,\n",
              " 0.008927485,\n",
              " 0.010347767,\n",
              " 0.018628517,\n",
              " -0.0005698563,\n",
              " -0.006397608,\n",
              " 0.013137606,\n",
              " 0.013213692,\n",
              " -0.020340463,\n",
              " -0.025628477,\n",
              " -0.0055638268,\n",
              " 0.002054336,\n",
              " -0.01751258,\n",
              " 0.020518,\n",
              " 0.012998114,\n",
              " -0.035278782,\n",
              " 0.013606806,\n",
              " 0.018653879,\n",
              " 0.020353144,\n",
              " -0.021646615,\n",
              " -0.027391147,\n",
              " -0.0060805813,\n",
              " 0.0041023316,\n",
              " 0.0038011558,\n",
              " 0.005180224,\n",
              " -0.027898392,\n",
              " -0.0003073182,\n",
              " -0.0032305068,\n",
              " 0.022306032,\n",
              " -0.00012146104,\n",
              " -0.0046761506,\n",
              " 7.5888376e-05,\n",
              " -0.00956154,\n",
              " -0.009035274,\n",
              " -0.013492676,\n",
              " 0.020086842,\n",
              " -0.011222762,\n",
              " 0.00057223404,\n",
              " -0.028557807,\n",
              " 0.00828709,\n",
              " -0.00060671073,\n",
              " -0.0073233275,\n",
              " -0.0073867333,\n",
              " 0.026402023,\n",
              " -0.0006542648,\n",
              " -0.01294739,\n",
              " -0.0010945363,\n",
              " -0.0009487038,\n",
              " 0.019173803,\n",
              " -0.019782495,\n",
              " -0.0140886875,\n",
              " -0.017373089,\n",
              " 0.0135814445,\n",
              " 0.0025695052,\n",
              " -0.008933825,\n",
              " -0.019998074,\n",
              " -0.011343232,\n",
              " 0.0282281,\n",
              " 0.010075124,\n",
              " -0.0130868815,\n",
              " -0.016295196,\n",
              " -0.0063880975,\n",
              " 0.022597697,\n",
              " 0.08029664,\n",
              " 0.020720895,\n",
              " -0.018489026,\n",
              " 0.013365866,\n",
              " 0.01912308,\n",
              " -0.026985353,\n",
              " -0.022737188,\n",
              " -0.0063690757,\n",
              " 0.027949115,\n",
              " -0.018121272,\n",
              " -0.0037757936,\n",
              " -0.009377664,\n",
              " 0.0059506,\n",
              " -0.007912998,\n",
              " 0.023979936,\n",
              " -0.0073550306,\n",
              " 0.0037631125,\n",
              " -0.0084709665,\n",
              " 0.0020733578,\n",
              " 0.0016279345,\n",
              " -0.0054465267,\n",
              " -0.0037631125,\n",
              " 0.000260953,\n",
              " 0.012211886,\n",
              " -0.014152093,\n",
              " 0.0039850315,\n",
              " -0.002401481,\n",
              " 0.016878527,\n",
              " 0.028177375,\n",
              " -0.02964838,\n",
              " -0.0031306434,\n",
              " 0.0075389063,\n",
              " 0.015762592,\n",
              " 0.0062739677,\n",
              " 0.02111401,\n",
              " 0.020467274,\n",
              " -0.0051770536,\n",
              " 0.014443758,\n",
              " 0.032869376,\n",
              " -0.031651992,\n",
              " 0.011806092,\n",
              " 0.007513544,\n",
              " 0.0045810426,\n",
              " 0.004875878,\n",
              " 0.02391653,\n",
              " 0.00020101503,\n",
              " -0.017664755,\n",
              " 0.016561499,\n",
              " 0.0059886435,\n",
              " -0.029724468,\n",
              " 0.036470804,\n",
              " -0.005243629,\n",
              " -0.010506281,\n",
              " 0.0022033388,\n",
              " 0.0058903648,\n",
              " 0.025565071,\n",
              " -0.01947815,\n",
              " -0.0043147397,\n",
              " -0.012985433,\n",
              " 0.0016548819,\n",
              " -0.010360448,\n",
              " -0.020124884,\n",
              " -0.0027010716,\n",
              " -0.009460091,\n",
              " -0.001680244,\n",
              " -0.025450941,\n",
              " -0.011698303,\n",
              " -0.0084709665,\n",
              " -0.006822425,\n",
              " -0.015014407,\n",
              " -0.021659296,\n",
              " -0.018260766,\n",
              " -0.01889482,\n",
              " -0.010480918,\n",
              " 0.015115855,\n",
              " 0.030409247,\n",
              " 0.010297042,\n",
              " -0.0013544986,\n",
              " 0.004688832,\n",
              " 0.010544323,\n",
              " -0.016865846,\n",
              " -0.016079618,\n",
              " -0.0008979795,\n",
              " -0.026199125,\n",
              " 0.002650347,\n",
              " 0.00979614,\n",
              " 0.013682893,\n",
              " -0.0064451625,\n",
              " 0.012047033,\n",
              " 0.011894859,\n",
              " 0.010563346,\n",
              " 0.008654842,\n",
              " -0.010569686,\n",
              " 0.0057667242,\n",
              " 0.022610378,\n",
              " -0.01073454,\n",
              " 0.011989968,\n",
              " 0.034517918,\n",
              " 0.019097717,\n",
              " -0.005424335,\n",
              " 0.033173725,\n",
              " -0.016764397,\n",
              " 0.0009590072,\n",
              " 0.00012829693,\n",
              " 0.014532526,\n",
              " -0.0075072036,\n",
              " 0.029952727,\n",
              " 0.0050565833,\n",
              " -0.020327782,\n",
              " -0.033275172,\n",
              " 0.031702716,\n",
              " -0.005763554,\n",
              " 0.014862234,\n",
              " 0.012465509,\n",
              " 0.010975481,\n",
              " 0.015077813,\n",
              " 0.015559694,\n",
              " 0.011254464,\n",
              " -0.00016643926,\n",
              " -0.009821502,\n",
              " -0.008439263,\n",
              " -0.021380313,\n",
              " -0.00096217747,\n",
              " 0.029344035,\n",
              " -0.025400218,\n",
              " 0.02134227,\n",
              " -0.004165737,\n",
              " -0.015547013,\n",
              " -0.0034968096,\n",
              " 0.0032051448,\n",
              " 0.011723665,\n",
              " 0.0073867333,\n",
              " 0.0016517115,\n",
              " -0.009783459,\n",
              " -0.041796863,\n",
              " -0.011216422,\n",
              " -0.0037060475,\n",
              " 0.012471849,\n",
              " -0.013505357,\n",
              " 0.001195985,\n",
              " -0.03091649,\n",
              " -0.008794334,\n",
              " 0.012465509,\n",
              " -0.042785987,\n",
              " 0.019871263,\n",
              " -0.025628477,\n",
              " -0.0015352041,\n",
              " -0.014101368,\n",
              " -0.0022936915,\n",
              " 0.013949196,\n",
              " -0.015724547,\n",
              " -0.010512621,\n",
              " -0.024537902,\n",
              " -0.015787954,\n",
              " -0.0021637105,\n",
              " -0.035684578,\n",
              " 0.007849593,\n",
              " -0.015889402,\n",
              " 0.040554117,\n",
              " 0.018007144,\n",
              " 0.030028814,\n",
              " -0.0036363017,\n",
              " 0.0046824915,\n",
              " 0.02438573,\n",
              " -0.026782455,\n",
              " -0.0038455396,\n",
              " -0.0016834143,\n",
              " -0.003046631,\n",
              " -0.016358603,\n",
              " -0.007025322,\n",
              " 0.029623019,\n",
              " 0.005554316,\n",
              " 0.026528833,\n",
              " 0.018806051,\n",
              " -0.0174999,\n",
              " 0.0111276535,\n",
              " -0.003918456,\n",
              " 0.008940166,\n",
              " -0.012180184,\n",
              " -0.016181067,\n",
              " 0.020036118,\n",
              " -0.005858662,\n",
              " 0.016206428,\n",
              " -0.007259922,\n",
              " -0.008730928,\n",
              " -0.004206951,\n",
              " 0.010468237,\n",
              " 0.032514308,\n",
              " 0.03720631,\n",
              " 0.0064610136,\n",
              " 0.022204584,\n",
              " 0.0006300915,\n",
              " -0.004993178,\n",
              " 0.004796621,\n",
              " -0.003369999,\n",
              " -0.026985353,\n",
              " -0.0016960953,\n",
              " 0.010810627,\n",
              " 0.006334203,\n",
              " 0.026959991,\n",
              " -0.0011230687,\n",
              " 0.016143024,\n",
              " -0.01294739,\n",
              " 0.024170151,\n",
              " -0.003813837,\n",
              " 0.0055257836,\n",
              " -0.011508087,\n",
              " -0.011964605,\n",
              " -0.0011785486,\n",
              " -0.025882099,\n",
              " -0.010487258,\n",
              " -0.03487299,\n",
              " -0.011336892,\n",
              " -0.017106786,\n",
              " 0.0061915405,\n",
              " 0.019617641,\n",
              " -0.011723665,\n",
              " 0.010550665,\n",
              " -0.014684699,\n",
              " -0.03758674,\n",
              " -0.004530318,\n",
              " 0.001621594,\n",
              " 0.04494177,\n",
              " -0.010411172,\n",
              " 0.007938361,\n",
              " 0.011996308,\n",
              " -0.0044035073,\n",
              " 0.0011872668,\n",
              " 0.016231792,\n",
              " 0.012402103,\n",
              " 0.004875878,\n",
              " -0.00069230807,\n",
              " 0.018070549,\n",
              " -0.008528031,\n",
              " -0.0050470727,\n",
              " -0.01993467,\n",
              " -0.009250853,\n",
              " -0.024449136,\n",
              " -0.010645772,\n",
              " 0.027949115,\n",
              " 0.00082585576,\n",
              " 0.00036378868,\n",
              " -0.008699225,\n",
              " -0.017652074,\n",
              " -0.00027066196,\n",
              " 0.01131787,\n",
              " -0.015217304,\n",
              " -0.006020346,\n",
              " -0.024575947,\n",
              " -4.312065e-05,\n",
              " -0.041847587,\n",
              " 0.00945375,\n",
              " -0.018958226,\n",
              " 0.0034746178,\n",
              " -0.030637506,\n",
              " -0.012617681,\n",
              " 0.007418436,\n",
              " 0.015331434,\n",
              " -0.02764477,\n",
              " -0.0065053976,\n",
              " -0.01879337,\n",
              " 0.01282692,\n",
              " -0.02509587,\n",
              " -0.0020907943,\n",
              " 0.013441952,\n",
              " 0.0028833621,\n",
              " -0.021963643,\n",
              " -0.020036118,\n",
              " -0.005960111,\n",
              " 0.025336811,\n",
              " -0.014076007,\n",
              " -0.016345922,\n",
              " -0.006102773,\n",
              " 0.012706449,\n",
              " 0.016992657,\n",
              " -0.019744452,\n",
              " 0.00027957835,\n",
              " -0.028709982,\n",
              " -0.005005859,\n",
              " 0.015597736,\n",
              " 0.021570528,\n",
              " -0.0011531863,\n",
              " -0.0041467156,\n",
              " 0.0073233275,\n",
              " -0.009555199,\n",
              " 0.0025568241,\n",
              " 0.0038772423,\n",
              " -0.014037963,\n",
              " 0.009935631,\n",
              " -0.0193767,\n",
              " -0.0006281101,\n",
              " -0.016891208,\n",
              " -0.0014765541,\n",
              " 0.0034714476,\n",
              " 0.020911112,\n",
              " 0.00030751637,\n",
              " -0.0069682575,\n",
              " 0.024411092,\n",
              " -0.028456358,\n",
              " 0.0174999,\n",
              " -0.030713592,\n",
              " 0.0061154542,\n",
              " -0.024931017,\n",
              " 0.007836912,\n",
              " 0.0104936,\n",
              " 0.006378587,\n",
              " 0.014126731,\n",
              " -0.020086842,\n",
              " 0.0032748906,\n",
              " -0.025260726,\n",
              " -0.0051865648,\n",
              " -0.0035728961,\n",
              " 0.022863999,\n",
              " -0.02484225,\n",
              " 0.011216422,\n",
              " 0.00036240168,\n",
              " 0.010969141,\n",
              " -0.03160127,\n",
              " -0.007932019,\n",
              " 0.03322445,\n",
              " 0.0015074642,\n",
              " 0.02484225,\n",
              " 0.035912838,\n",
              " -0.024335006,\n",
              " 0.007209198,\n",
              " 0.0055448054,\n",
              " 0.009472772,\n",
              " 0.012173844,\n",
              " -0.022661103,\n",
              " -0.008096874,\n",
              " -0.010005377,\n",
              " 0.028304186,\n",
              " 0.0039469884,\n",
              " -0.011222762,\n",
              " -0.011596854,\n",
              " -0.0031116216,\n",
              " -0.016422007,\n",
              " 0.015547013,\n",
              " -0.023206389,\n",
              " -0.0029356717,\n",
              " 0.018045187,\n",
              " 0.002716923,\n",
              " -0.026528833,\n",
              " 0.011000843,\n",
              " -0.013239055,\n",
              " -0.012275293,\n",
              " -0.013112244,\n",
              " -0.0050090295,\n",
              " -0.030180987,\n",
              " -0.019655684,\n",
              " -0.007653036,\n",
              " 0.0023618524,\n",
              " 0.01375898,\n",
              " -0.011691962,\n",
              " -0.02553971,\n",
              " -0.008737269,\n",
              " -0.007025322,\n",
              " -0.010366788,\n",
              " 0.026402023,\n",
              " 0.0037504314,\n",
              " 0.02110133,\n",
              " -0.022851318,\n",
              " 0.011343232,\n",
              " 0.013847747,\n",
              " -0.012979092,\n",
              " 0.030383885,\n",
              " -0.012776195,\n",
              " -0.009548859,\n",
              " -0.006451503,\n",
              " -0.0020733578,\n",
              " -0.0023475862,\n",
              " -0.0010818553,\n",
              " -0.0044891047,\n",
              " -0.010861351,\n",
              " 0.0046127453,\n",
              " 0.021545166,\n",
              " 0.010816967,\n",
              " 0.011254464,\n",
              " -0.008686544,\n",
              " -0.00018258784,\n",
              " -0.0041974396,\n",
              " -0.01912308,\n",
              " 0.0075579276,\n",
              " -0.008502669,\n",
              " 0.011153016,\n",
              " -0.026807819,\n",
              " -0.0113305515,\n",
              " 0.006556122,\n",
              " -0.011932903,\n",
              " -0.02637666,\n",
              " -0.0058333,\n",
              " 0.017816927,\n",
              " -0.005782576,\n",
              " 0.009624945,\n",
              " -0.022267988,\n",
              " -0.0049900077,\n",
              " -0.011045227,\n",
              " -0.029420123,\n",
              " 0.013961877,\n",
              " -0.013023476,\n",
              " 0.029496208,\n",
              " 0.024702758,\n",
              " -0.011704643,\n",
              " -0.010220956,\n",
              " 0.0007513544,\n",
              " 0.0013045669,\n",
              " -0.01364485,\n",
              " -0.021507123,\n",
              " 0.007107749,\n",
              " -0.016992657,\n",
              " -0.0012459168,\n",
              " -0.029572295,\n",
              " 0.0019925158,\n",
              " -0.023142984,\n",
              " 0.0067273164,\n",
              " -0.022039728,\n",
              " -0.015179261,\n",
              " -0.017347727,\n",
              " 0.024690077,\n",
              " -0.0084709665,\n",
              " -0.021126691,\n",
              " -0.0020955496,\n",
              " -0.022267988,\n",
              " 0.003604599,\n",
              " -0.00108027,\n",
              " -0.010176572,\n",
              " 0.006720976,\n",
              " 0.003861391,\n",
              " -0.017791566,\n",
              " -0.0065624625,\n",
              " -0.00014424736,\n",
              " -0.023257114,\n",
              " -0.01282692,\n",
              " 0.015331434,\n",
              " -0.007012641,\n",
              " 0.022115815,\n",
              " 0.20857851,\n",
              " -0.001878386,\n",
              " 0.005417994,\n",
              " 0.0368766,\n",
              " -0.01060773,\n",
              " 0.030155625,\n",
              " 0.021786107,\n",
              " -0.0037187287,\n",
              " -0.006473695,\n",
              " 0.025767969,\n",
              " -0.0025964526,\n",
              " 0.012922027,\n",
              " -0.021608572,\n",
              " 0.0052087563,\n",
              " 0.014862234,\n",
              " 0.008394879,\n",
              " -0.005433846,\n",
              " -0.0027232633,\n",
              " -0.014393033,\n",
              " -0.030282436,\n",
              " -0.014519844,\n",
              " -0.0063056704,\n",
              " -0.02683318,\n",
              " -0.0043464424,\n",
              " 0.010886713,\n",
              " 0.01926257,\n",
              " -0.00851535,\n",
              " -0.00080643786,\n",
              " 0.032691844,\n",
              " 0.018298808,\n",
              " -0.01738577,\n",
              " -0.002872266,\n",
              " -0.01155247,\n",
              " 0.022534292,\n",
              " -0.014760785,\n",
              " 0.007881296,\n",
              " 0.01633324,\n",
              " 0.018222721,\n",
              " 0.012402103,\n",
              " -0.0038455396,\n",
              " 0.020720895,\n",
              " 0.0012134215,\n",
              " -0.00758329,\n",
              " -0.015141218,\n",
              " 0.0018815562,\n",
              " 0.025362173,\n",
              " ...]"
            ]
          },
          "execution_count": 27,
          "metadata": {},
          "output_type": "execute_result"
        }
      ],
      "source": [
        "result_embedding.data[0].embedding"
      ]
    },
    {
      "cell_type": "code",
      "execution_count": 37,
      "metadata": {
        "gather": {
          "logged": 1674829555255
        },
        "jupyter": {
          "outputs_hidden": false,
          "source_hidden": false
        },
        "nteract": {
          "transient": {
            "deleting": false
          }
        }
      },
      "outputs": [],
      "source": [
        "automobile_embedding = client.embeddings.create(model=model, input='automobile', encoding_format=\"float\").data[0].embedding\n",
        "vehicle_embedding = client.embeddings.create(model=model, input='vehicle_embedding', encoding_format=\"float\").data[0].embedding\n",
        "dinosaur_embedding = client.embeddings.create(model=model, input='dinosaur_embedding', encoding_format=\"float\").data[0].embedding\n",
        "stick_embedding = client.embeddings.create(model=model, input='stick_embedding', encoding_format=\"float\").data[0].embedding"
      ]
    },
    {
      "cell_type": "code",
      "execution_count": 38,
      "metadata": {},
      "outputs": [],
      "source": [
        "import numpy as np\n",
        "\n",
        "def cosine_similarity(a, b):\n",
        "    return np.dot(a, b) / (np.linalg.norm(a) * np.linalg.norm(b))"
      ]
    },
    {
      "cell_type": "code",
      "execution_count": 39,
      "metadata": {},
      "outputs": [
        {
          "name": "stdout",
          "output_type": "stream",
          "text": [
            "0.7954936667263026\n",
            "0.7617144315859743\n",
            "0.741554591766516\n"
          ]
        }
      ],
      "source": [
        "print(cosine_similarity(automobile_embedding, vehicle_embedding))\n",
        "print(cosine_similarity(automobile_embedding, dinosaur_embedding))\n",
        "print(cosine_similarity(automobile_embedding, stick_embedding))"
      ]
    },
    {
      "attachments": {},
      "cell_type": "markdown",
      "metadata": {
        "nteract": {
          "transient": {
            "deleting": false
          }
        }
      },
      "source": [
        "## Comparing article from cnn daily news dataset\n",
        "source: https://huggingface.co/datasets/cnn_dailymail\n"
      ]
    },
    {
      "cell_type": "code",
      "execution_count": 40,
      "metadata": {
        "gather": {
          "logged": 1674831122093
        },
        "jupyter": {
          "outputs_hidden": false,
          "source_hidden": false
        },
        "nteract": {
          "transient": {
            "deleting": false
          }
        }
      },
      "outputs": [
        {
          "data": {
            "text/html": [
              "<div>\n",
              "<style scoped>\n",
              "    .dataframe tbody tr th:only-of-type {\n",
              "        vertical-align: middle;\n",
              "    }\n",
              "\n",
              "    .dataframe tbody tr th {\n",
              "        vertical-align: top;\n",
              "    }\n",
              "\n",
              "    .dataframe thead th {\n",
              "        text-align: right;\n",
              "    }\n",
              "</style>\n",
              "<table border=\"1\" class=\"dataframe\">\n",
              "  <thead>\n",
              "    <tr style=\"text-align: right;\">\n",
              "      <th></th>\n",
              "      <th>articles</th>\n",
              "      <th>highligths</th>\n",
              "    </tr>\n",
              "  </thead>\n",
              "  <tbody>\n",
              "    <tr>\n",
              "      <th>0</th>\n",
              "      <td>BREMEN, Germany -- Carlos Alberto, who scored ...</td>\n",
              "      <td>Werder Bremen pay a club record $10.7 million ...</td>\n",
              "    </tr>\n",
              "    <tr>\n",
              "      <th>1</th>\n",
              "      <td>(CNN) -- Football superstar, celebrity, fashio...</td>\n",
              "      <td>Beckham has agreed to a five-year contract wit...</td>\n",
              "    </tr>\n",
              "    <tr>\n",
              "      <th>2</th>\n",
              "      <td>LOS ANGELES, California (CNN) -- Youssif, the ...</td>\n",
              "      <td>Boy on meeting Spider-Man: \"It was my favorite...</td>\n",
              "    </tr>\n",
              "  </tbody>\n",
              "</table>\n",
              "</div>"
            ],
            "text/plain": [
              "                                            articles  \\\n",
              "0  BREMEN, Germany -- Carlos Alberto, who scored ...   \n",
              "1  (CNN) -- Football superstar, celebrity, fashio...   \n",
              "2  LOS ANGELES, California (CNN) -- Youssif, the ...   \n",
              "\n",
              "                                          highligths  \n",
              "0  Werder Bremen pay a club record $10.7 million ...  \n",
              "1  Beckham has agreed to a five-year contract wit...  \n",
              "2  Boy on meeting Spider-Man: \"It was my favorite...  "
            ]
          },
          "execution_count": 40,
          "metadata": {},
          "output_type": "execute_result"
        }
      ],
      "source": [
        "import pandas as pd\n",
        "cnn_daily_articles = ['BREMEN, Germany -- Carlos Alberto, who scored in FC Porto\\'s Champions League final victory against Monaco in 2004, has joined Bundesliga club Werder Bremen for a club record fee of 7.8 million euros ($10.7 million). Carlos Alberto enjoyed success at FC Porto under Jose Mourinho. \"I\\'m here to win titles with Werder,\" the 22-year-old said after his first training session with his new club. \"I like Bremen and would only have wanted to come here.\" Carlos Alberto started his career with Fluminense, and helped them to lift the Campeonato Carioca in 2002. In January 2004 he moved on to FC Porto, who were coached by José Mourinho, and the club won the Portuguese title as well as the Champions League. Early in 2005, he moved to Corinthians, where he impressed as they won the Brasileirão,but in 2006 Corinthians had a poor season and Carlos Alberto found himself at odds with manager, Emerson Leão. Their poor relationship came to a climax at a Copa Sul-Americana game against Club Atlético Lanús, and Carlos Alberto declared that he would not play for Corinthians again while Leão remained as manager. Since January this year he has been on loan with his first club Fluminense. Bundesliga champions VfB Stuttgart said on Sunday that they would sign a loan agreement with Real Zaragoza on Monday for Ewerthon, the third top Brazilian player to join the German league in three days. A VfB spokesman said Ewerthon, who played in the Bundesliga for Borussia Dortmund from 2001 to 2005, was expected to join the club for their pre-season training in Austria on Monday. On Friday, Ailton returned to Germany where he was the league\\'s top scorer in 2004, signing a one-year deal with Duisburg on a transfer from Red Star Belgrade. E-mail to a friend .',\n",
        "                        '(CNN) -- Football superstar, celebrity, fashion icon, multimillion-dollar heartthrob. Now, David Beckham is headed for the Hollywood Hills as he takes his game to U.S. Major League Soccer. CNN looks at how Bekham fulfilled his dream of playing for Manchester United, and his time playing for England. The world\\'s famous footballer has begun a five-year contract with the Los Angeles Galaxy team, and on Friday Beckham will meet the press and reveal his new shirt number. This week, we take an in depth look at the life and times of Beckham, as CNN\\'s very own \"Becks,\" Becky Anderson, sets out to examine what makes the man tick -- as footballer, fashion icon and global phenomenon. It\\'s a long way from the streets of east London to the Hollywood Hills and Becky charts Beckham\\'s incredible rise to football stardom, a journey that has seen his skills grace the greatest stages in world soccer. She goes in pursuit of the current hottest property on the sports/celebrity circuit in the U.S. and along the way explores exactly what\\'s behind the man with the golden boot. CNN will look back at the life of Beckham, the wonderfully talented youngster who fulfilled his dream of playing for Manchester United, his marriage to pop star Victoria, and the trials and tribulations of playing for England. We\\'ll look at the highs (scoring against Greece), the lows (being sent off during the World Cup), the Man. U departure for the Galacticos of Madrid -- and now the Home Depot stadium in L.A. We\\'ll ask how Beckham and his family will adapt to life in Los Angeles -- the people, the places to see and be seen and the celebrity endorsement. Beckham is no stranger to exposure. He has teamed with Reggie Bush in an Adidas commercial, is the face of Motorola, is the face on a PlayStation game and doesn\\'t need fashion tips as he has his own international clothing line. But what does the star couple need to do to become an accepted part of Tinseltown\\'s glitterati? The road to major league football in the U.S.A. is a well-worn route for some of the world\\'s greatest players. We talk to some of the former greats who came before him and examine what impact these overseas stars had on U.S. soccer and look at what is different now. We also get a rare glimpse inside the David Beckham academy in L.A, find out what drives the kids and who are their heroes. The perception that in the U.S.A. soccer is a \"game for girls\" after the teenage years is changing. More and more young kids are choosing the European game over the traditional U.S. sports. E-mail to a friend .',\n",
        "                        'LOS ANGELES, California (CNN) -- Youssif, the 5-year-old burned Iraqi boy, rounded the corner at Universal Studios when suddenly the little boy hero met his favorite superhero. Youssif has always been a huge Spider-Man fan. Meeting him was \"my favorite thing,\" he said. Spider-Man was right smack dab in front of him, riding a four-wheeler amid a convoy of other superheroes. The legendary climber of buildings and fighter of evil dismounted, walked over to Youssif and introduced himself. Spidey then gave the boy from a far-away land a gentle hug, embracing him in his iconic blue and red tights. He showed Youssif a few tricks, like how to shoot a web from his wrist. Only this time, no web was spun. \"All right Youssif!\" Spider-Man said after the boy mimicked his wrist movement. Other superheroes crowded around to get a closer look. Even the Green Goblin stopped his villainous ways to tell the boy hi. Youssif remained unfazed. He didn\\'t take a liking to Spider-Man\\'s nemesis. Spidey was just too cool. \"It was my favorite thing,\" the boy said later. \"I want to see him again.\" He then felt compelled to add: \"I know it\\'s not the real Spider-Man.\" This was the day of dreams when the boy\\'s nightmares were, at least temporarily, forgotten. He met SpongeBob, Lassie and a 3-year-old orangutan named Archie. The hairy, brownish-red primate took to the boy, grabbing his hand and holding it. Even when Youssif pulled away, Archie would inch his hand back toward the boy\\'s and then snatch it. See Youssif enjoy being a boy again » . The boy giggled inside a play area where sponge-like balls shot out of toy guns. It was a far different artillery than what he was used to seeing in central Baghdad, as recently as a week ago. He squealed with delight and raced around the room collecting as many balls as he could. He rode a tram through the back stages at Universal Studios. At one point, the car shook. Fire and smoke filled the air, debris cascaded down and a big rig skidded toward the vehicle. The boy and his family survived the pretend earthquake unscathed. \"Even I was scared,\" the dad said. \"Well, I wasn\\'t,\" Youssif replied. The father and mother grinned from ear to ear throughout the day. Youssif pushed his 14-month-old sister, Ayaa, in a stroller. \"Did you even need to ask us if we were interested in coming here?\" Youssif\\'s father said in amazement. \"Other than my wedding day, this is the happiest day of my life,\" he said. Just a day earlier, the mother and father talked about their journey out of Iraq and to the United States. They also discussed that day nine months ago when masked men grabbed their son outside the family home, doused him in gas and set him on fire. His mother heard her boy screaming from inside. The father sought help for his boy across Baghdad, but no one listened. He remembers his son\\'s two months of hospitalization. The doctors didn\\'t use anesthetics. He could hear his boy\\'s piercing screams from the other side of the hospital. Watch Youssif meet his doctor and play with his little sister » . The father knew that speaking to CNN would put his family\\'s lives in jeopardy. The possibility of being killed was better than seeing his son suffer, he said. \"Anything for Youssif,\" he said. \"We had to do it.\" They described a life of utter chaos in Baghdad. Neighbors had recently given birth to a baby girl. Shortly afterward, the father was kidnapped and killed. Then, there was the time when some girls wore tanktops and jeans. They were snatched off the street by gunmen. The stories can be even more gruesome. The couple said they had heard reports that a young girl was kidnapped and beheaded --and her killers sewed a dog\\'s head on the corpse and delivered it to her family\\'s doorstep. \"These are just some of the stories,\" said Youssif\\'s mother, Zainab. Under Saddam Hussein, there was more security and stability, they said. There was running water and electricity most of the time. But still life was tough under the dictator, like the time when Zainab\\'s uncle disappeared and was never heard from again after he read a \"religious book,\" she said. Sitting in the parking lot of a Target in suburban Los Angeles, Youssif\\'s father watched as husbands and wives, boyfriends and girlfriends, parents and their children, came and went. Some held hands. Others smiled and laughed. \"Iraq finished,\" he said in what few English words he knows. He elaborated in Arabic: His homeland won\\'t be enjoying such freedoms anytime soon. It\\'s just not possible. Too much violence. Too many killings. His two children have only seen war. But this week, the family has seen a much different side of America -- an outpouring of generosity and a peaceful nation at home. \"It\\'s been a dream,\" the father said. He used to do a lot of volunteer work back in Baghdad. \"Maybe that\\'s why I\\'m being helped now,\" the father said. At Universal Studios, he looked out across the valley below. The sun glistened off treetops and buildings. It was a picturesque sight fit for a Hollywood movie. \"Good America, good America,\" he said in English. E-mail to a friend . CNN\\'s Arwa Damon contributed to this report.'\n",
        "]\n",
        "\n",
        "cnn_daily_article_highlights = ['Werder Bremen pay a club record $10.7 million for Carlos Alberto .\\nThe Brazilian midfielder won the Champions League with FC Porto in 2004 .\\nSince January he has been on loan with his first club, Fluminense .',\n",
        "                                'Beckham has agreed to a five-year contract with Los Angeles Galaxy .\\nNew contract took effect July 1, 2007 .\\nFormer English captain to meet press, unveil new shirt number Friday .\\nCNN to look at Beckham as footballer, fashion icon and global phenomenon .',\n",
        "                                'Boy on meeting Spider-Man: \"It was my favorite thing\"\\nYoussif also met SpongeBob, Lassie and an orangutan at Universal Studios .\\nDad: \"Other than my wedding day, this is the happiest day of my life\"' \n",
        "]\n",
        "\n",
        "cnn_df = pd.DataFrame({\"articles\":cnn_daily_articles, \"highligths\":cnn_daily_article_highlights})\n",
        "\n",
        "cnn_df.head()                      "
      ]
    },
    {
      "cell_type": "code",
      "execution_count": 41,
      "metadata": {
        "gather": {
          "logged": 1674831294043
        },
        "jupyter": {
          "outputs_hidden": false,
          "source_hidden": false
        },
        "nteract": {
          "transient": {
            "deleting": false
          }
        }
      },
      "outputs": [
        {
          "name": "stdout",
          "output_type": "stream",
          "text": [
            "0.7621055243875641\n",
            "0.7103305084873196\n"
          ]
        }
      ],
      "source": [
        "article1_embedding = client.embeddings.create(model=model, input=cnn_df.articles.iloc[0], encoding_format=\"float\").data[0].embedding\n",
        "article2_embedding = client.embeddings.create(model=model, input=cnn_df.articles.iloc[1], encoding_format=\"float\").data[0].embedding\n",
        "article3_embedding = client.embeddings.create(model=model, input=cnn_df.articles.iloc[2], encoding_format=\"float\").data[0].embedding\n",
        "\n",
        "print(cosine_similarity(article1_embedding, article2_embedding))\n",
        "print(cosine_similarity(article1_embedding, article3_embedding))"
      ]
    },
    {
      "attachments": {},
      "cell_type": "markdown",
      "metadata": {
        "nteract": {
          "transient": {
            "deleting": false
          }
        }
      },
      "source": [
        "# References  \n",
        "- [Azure Documentation - Azure Open AI Models](https://learn.microsoft.com/azure/cognitive-services/openai/concepts/models?WT.mc_id=academic-105485-koreyst)  \n",
        "- [OpenAI Studio Examples](https://oai.azure.com/portal?WT.mc_id=academic-105485-koreyst)  "
      ]
    },
    {
      "attachments": {},
      "cell_type": "markdown",
      "metadata": {
        "nteract": {
          "transient": {
            "deleting": false
          }
        }
      },
      "source": [
        "# For More Help  \n",
        "[OpenAI Commercialization Team](AzureOpenAITeam@microsoft.com)  \n",
        "AI Specialized CSAs [aka.ms/airangers](https://aka.ms/airangers?WT.mc_id=academic-105485-koreyst)"
      ]
    },
    {
      "attachments": {},
      "cell_type": "markdown",
      "metadata": {
        "nteract": {
          "transient": {
            "deleting": false
          }
        }
      },
      "source": [
        "# Contributors\n",
        "* Louis Li  \n"
      ]
    }
  ],
  "metadata": {
    "kernel_info": {
      "name": "python310-sdkv2"
    },
    "kernelspec": {
      "display_name": "base",
      "language": "python",
      "name": "python3"
    },
    "language_info": {
      "codemirror_mode": {
        "name": "ipython",
        "version": 3
      },
      "file_extension": ".py",
      "mimetype": "text/x-python",
      "name": "python",
      "nbconvert_exporter": "python",
      "pygments_lexer": "ipython3",
      "version": "3.10.13"
    },
    "microsoft": {
      "host": {
        "AzureML": {
          "notebookHasBeenCompleted": true
        }
      }
    },
    "nteract": {
      "version": "nteract-front-end@1.0.0"
    }
  },
  "nbformat": 4,
  "nbformat_minor": 2
}
